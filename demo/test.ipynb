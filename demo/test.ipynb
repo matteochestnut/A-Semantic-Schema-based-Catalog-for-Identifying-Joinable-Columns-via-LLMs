{
 "cells": [
  {
   "cell_type": "code",
   "execution_count": 1,
   "id": "615f6a21",
   "metadata": {},
   "outputs": [
    {
     "name": "stderr",
     "output_type": "stream",
     "text": [
      "/Users/matteocastagna/anaconda3/envs/archetype2/lib/python3.10/site-packages/tqdm/auto.py:21: TqdmWarning: IProgress not found. Please update jupyter and ipywidgets. See https://ipywidgets.readthedocs.io/en/stable/user_install.html\n",
      "  from .autonotebook import tqdm as notebook_tqdm\n",
      "/Users/matteocastagna/anaconda3/envs/archetype2/lib/python3.10/site-packages/torchvision/io/image.py:14: UserWarning: Failed to load image Python extension: 'dlopen(/Users/matteocastagna/anaconda3/envs/archetype2/lib/python3.10/site-packages/torchvision/image.so, 0x0006): Library not loaded: @rpath/libjpeg.9.dylib\n",
      "  Referenced from: <0B7EB158-53DC-3403-8A49-22178CAB4612> /Users/matteocastagna/anaconda3/envs/archetype2/lib/python3.10/site-packages/torchvision/image.so\n",
      "  Reason: tried: '/Users/matteocastagna/anaconda3/envs/archetype2/lib/python3.10/site-packages/torchvision/../../../libjpeg.9.dylib' (no such file), '/Users/matteocastagna/anaconda3/envs/archetype2/lib/python3.10/site-packages/torchvision/../../../libjpeg.9.dylib' (no such file), '/Users/matteocastagna/anaconda3/envs/archetype2/lib/python3.10/lib-dynload/../../libjpeg.9.dylib' (no such file), '/Users/matteocastagna/anaconda3/envs/archetype2/bin/../lib/libjpeg.9.dylib' (no such file)'If you don't plan on using image functionality from `torchvision.io`, you can ignore this warning. Otherwise, there might be something wrong with your environment. Did you have `libjpeg` or `libpng` installed before building `torchvision` from source?\n",
      "  warn(\n"
     ]
    }
   ],
   "source": [
    "import os\n",
    "import sys\n",
    "from openai import OpenAI\n",
    "from dotenv import load_dotenv\n",
    "\n",
    "sys.path.append(\"../src\")  # Add the directory containing `src`\n",
    "from data_loader import DataLoader\n",
    "from schema_generator import SchemaGenerator\n",
    "from semantic_annotation import archetype_annotation\n",
    "from join_discoverer import JoinDiscoverer\n",
    "\n",
    "load_dotenv(\"/Users/matteocastagna/Documents/Università/Assegno di ricerca 2024:2025/SemLink/.env\") # Insert the path to your .env file\n",
    "\n",
    "openai_client = OpenAI(api_key=os.getenv(\"OPENAI_API_KEY\"))  # Or use your actual API key"
   ]
  },
  {
   "cell_type": "markdown",
   "id": "7708e371",
   "metadata": {},
   "source": [
    "<h1>Eurostat<h1>"
   ]
  },
  {
   "cell_type": "code",
   "execution_count": 2,
   "id": "d5419b24",
   "metadata": {},
   "outputs": [],
   "source": [
    "data_dir = \"/Users/matteocastagna/Documents/Università/Assegno di ricerca 2024:2025/SemLink/demo/eurostat/data\"\n",
    "metadata_dir = \"/Users/matteocastagna/Documents/Università/Assegno di ricerca 2024:2025/SemLink/demo/eurostat/data\"\n",
    "output_dir = \"/Users/matteocastagna/Documents/Università/Assegno di ricerca 2024:2025/SemLink/demo/eurostat/output\"\n",
    "\n",
    "# Initialization\n",
    "data_loader = DataLoader(openai_client=openai_client)\n",
    "schema_gen = SchemaGenerator(openai_client=openai_client)\n",
    "join_dis = JoinDiscoverer(openai_client=openai_client)"
   ]
  },
  {
   "cell_type": "code",
   "execution_count": 3,
   "id": "dabb85b1",
   "metadata": {},
   "outputs": [
    {
     "name": "stdout",
     "output_type": "stream",
     "text": [
      "[17:41:50] \u001b[35mStarting data lake loading and description from /Users/matteocastagna/Documents/Università/Assegno di ricerca 2024:2025/SemLink/demo/eurostat/data\u001b[0m\n"
     ]
    },
    {
     "name": "stderr",
     "output_type": "stream",
     "text": [
      "Processing data files:   0%|          | 0/4 [00:00<?, ?it/s]"
     ]
    },
    {
     "name": "stdout",
     "output_type": "stream",
     "text": [
      "[17:41:50] \u001b[34mFound metadata for AACT_ALI02_data.csv: AACT_ALI02_metadata.json\u001b[0m\n"
     ]
    },
    {
     "name": "stderr",
     "output_type": "stream",
     "text": [
      "Processing data files:  25%|██▌       | 1/4 [00:18<00:55, 18.43s/it]"
     ]
    },
    {
     "name": "stdout",
     "output_type": "stream",
     "text": [
      "[17:42:09] \u001b[34mFound metadata for AACT_EAA06_data.csv: AACT_EAA06_metadata.json\u001b[0m\n"
     ]
    },
    {
     "name": "stderr",
     "output_type": "stream",
     "text": [
      "Processing data files:  50%|█████     | 2/4 [00:32<00:31, 15.86s/it]"
     ]
    },
    {
     "name": "stdout",
     "output_type": "stream",
     "text": [
      "[17:42:23] \u001b[34mFound metadata for ACF_D_EQ1_data.csv: ACF_D_EQ1_metadata.json\u001b[0m\n"
     ]
    },
    {
     "name": "stderr",
     "output_type": "stream",
     "text": [
      "Processing data files:  75%|███████▌  | 3/4 [00:45<00:14, 14.62s/it]"
     ]
    },
    {
     "name": "stdout",
     "output_type": "stream",
     "text": [
      "[17:42:36] \u001b[34mFound metadata for AACT_ALI01_data.csv: AACT_ALI01_metadata.json\u001b[0m\n"
     ]
    },
    {
     "name": "stderr",
     "output_type": "stream",
     "text": [
      "Processing data files: 100%|██████████| 4/4 [00:57<00:00, 14.36s/it]\n"
     ]
    },
    {
     "name": "stdout",
     "output_type": "stream",
     "text": [
      "[17:42:48] \u001b[33mUnifying column data...\u001b[0m\n"
     ]
    },
    {
     "name": "stderr",
     "output_type": "stream",
     "text": [
      "Unifying descriptions with LLM: 100%|██████████| 12/12 [00:16<00:00,  1.36s/it]"
     ]
    },
    {
     "name": "stdout",
     "output_type": "stream",
     "text": [
      "[17:43:04] \u001b[32mColumn data unification complete.\u001b[0m\n",
      "[17:43:04] \u001b[32mEnsured directory exists: /Users/matteocastagna/Documents/Università/Assegno di ricerca 2024:2025/SemLink/demo/eurostat/output/datalake\u001b[0m\n",
      "[17:43:04] \u001b[32mData lake JSON saved to: /Users/matteocastagna/Documents/Università/Assegno di ricerca 2024:2025/SemLink/demo/eurostat/output/datalake/data_lake.json\u001b[0m\n",
      "[17:43:04] \u001b[32mFinished loading and describing 4 data files.\u001b[0m\n",
      "\n",
      "Processed 4 files\n"
     ]
    },
    {
     "name": "stderr",
     "output_type": "stream",
     "text": [
      "\n"
     ]
    }
   ],
   "source": [
    "datalake = data_loader.load_and_describe_datalake(\n",
    "    data_directory=data_dir, # Directory with CSV or TSV\n",
    "    metadata_directory=metadata_dir, # Optional directory with matadata in json format\n",
    "    llm=True, # Produce a desciption with an LLM for each column\n",
    "    sample_size=10, # How many values sample from a column\n",
    "    output_directory=os.path.join(output_dir, \"datalake\") # Directory to save the output json\n",
    ")\n",
    "\n",
    "print(f\"\\nProcessed {len(datalake)} files\")"
   ]
  },
  {
   "cell_type": "code",
   "execution_count": 4,
   "id": "b55baac3",
   "metadata": {},
   "outputs": [
    {
     "name": "stdout",
     "output_type": "stream",
     "text": [
      "[17:43:04] \u001b[33mGenerating LinkML schema with LLM...\u001b[0m\n",
      "[17:43:18] \u001b[32mSuccessfully generated LinkML schema.\u001b[0m\n",
      "[17:43:18] \u001b[32mEnsured directory exists: /Users/matteocastagna/Documents/Università/Assegno di ricerca 2024:2025/SemLink/demo/eurostat/output/schema\u001b[0m\n",
      "[17:43:18] \u001b[32mLinkML schema saved to: /Users/matteocastagna/Documents/Università/Assegno di ricerca 2024:2025/SemLink/demo/eurostat/output/schema/linkml_schema.yaml\u001b[0m\n"
     ]
    }
   ],
   "source": [
    "# Generate LinkML schema\n",
    "schema = schema_gen.generate_linkml_schema(\n",
    "    data_lake_list = datalake, # Either the list of dict produced by load_and_describe_datalake or the path to the json file produced\n",
    "    output_directory=os.path.join(output_dir, \"schema\") # Directory to save the output yaml\n",
    ")"
   ]
  },
  {
   "cell_type": "code",
   "execution_count": 5,
   "id": "9a831a0b",
   "metadata": {},
   "outputs": [
    {
     "name": "stdout",
     "output_type": "stream",
     "text": [
      "[17:43:18] \u001b[33mStarting schema pruning...\u001b[0m\n",
      "[17:43:18] \u001b[32mLoaded YAML file with 12 class.attribute pairs and 14 descriptions.\u001b[0m\n"
     ]
    },
    {
     "name": "stderr",
     "output_type": "stream",
     "text": [
      "Classifying datasets for pruning: 100%|██████████| 4/4 [00:18<00:00,  4.52s/it]"
     ]
    },
    {
     "name": "stdout",
     "output_type": "stream",
     "text": [
      "[17:43:36] \u001b[34mTotal unique relevant classes identified: 1\u001b[0m\n",
      "[17:43:36] \u001b[34mRelevant classes: ['Document']\u001b[0m\n",
      "[17:43:36] \u001b[32mEnsured directory exists: /Users/matteocastagna/Documents/Università/Assegno di ricerca 2024:2025/SemLink/demo/eurostat/output/schema\u001b[0m\n",
      "[17:43:36] \u001b[32mPruned LinkML schema saved to: /Users/matteocastagna/Documents/Università/Assegno di ricerca 2024:2025/SemLink/demo/eurostat/output/schema/linkml_schema_pruned.yaml\u001b[0m\n"
     ]
    },
    {
     "name": "stderr",
     "output_type": "stream",
     "text": [
      "\n"
     ]
    }
   ],
   "source": [
    "# Prune LinkML schema\n",
    "pruned_schema = schema_gen.prune_schema(\n",
    "    data_lake_list = datalake, # Either the list of dict produced by load_and_describe_datalake or the path to the json file produced\n",
    "    yaml_schema = schema, # Either the dict produced by generate_linkml_schema or path to the yaml file produced\n",
    "    output_directory=os.path.join(output_dir, \"schema\") # Directory to save the output yaml\n",
    ")"
   ]
  },
  {
   "cell_type": "code",
   "execution_count": 6,
   "id": "67dfdd39",
   "metadata": {},
   "outputs": [
    {
     "name": "stdout",
     "output_type": "stream",
     "text": [
      "[17:43:36] \u001b[35mStarting semantic annotation with Archetype...\u001b[0m\n",
      "[17:43:36] \u001b[32mLoaded YAML file with 12 class.attribute pairs and 14 descriptions.\u001b[0m\n",
      "[17:43:36] \u001b[34mLoaded YAML schema from for Archetype.\u001b[0m\n"
     ]
    },
    {
     "name": "stderr",
     "output_type": "stream",
     "text": [
      "Annotating files:   0%|          | 0/4 [00:00<?, ?it/s]"
     ]
    },
    {
     "name": "stdout",
     "output_type": "stream",
     "text": [
      "[17:43:36] \u001b[36mProcessing file: AACT_ALI02_data.csv\u001b[0m\n"
     ]
    },
    {
     "name": "stderr",
     "output_type": "stream",
     "text": [
      "Annotating files:  25%|██▌       | 1/4 [00:05<00:16,  5.62s/it]"
     ]
    },
    {
     "name": "stdout",
     "output_type": "stream",
     "text": [
      "[17:43:41] \u001b[36mProcessing file: AACT_EAA06_data.csv\u001b[0m\n"
     ]
    },
    {
     "name": "stderr",
     "output_type": "stream",
     "text": [
      "Annotating files:  50%|█████     | 2/4 [00:12<00:12,  6.29s/it]"
     ]
    },
    {
     "name": "stdout",
     "output_type": "stream",
     "text": [
      "[17:43:48] \u001b[36mProcessing file: ACF_D_EQ1_data.csv\u001b[0m\n"
     ]
    },
    {
     "name": "stderr",
     "output_type": "stream",
     "text": [
      "Annotating files:  75%|███████▌  | 3/4 [00:21<00:07,  7.69s/it]"
     ]
    },
    {
     "name": "stdout",
     "output_type": "stream",
     "text": [
      "[17:43:58] \u001b[36mProcessing file: AACT_ALI01_data.csv\u001b[0m\n"
     ]
    },
    {
     "name": "stderr",
     "output_type": "stream",
     "text": [
      "Annotating files: 100%|██████████| 4/4 [00:28<00:00,  7.01s/it]"
     ]
    },
    {
     "name": "stdout",
     "output_type": "stream",
     "text": [
      "[17:44:04] \u001b[32mFinished semantic annotation for 4 files.\u001b[0m\n",
      "[17:44:04] \u001b[32mEnsured directory exists: /Users/matteocastagna/Documents/Università/Assegno di ricerca 2024:2025/SemLink/demo/eurostat/output/datalake\u001b[0m\n",
      "[17:44:04] \u001b[32mAnnotated data lake JSON saved to: /Users/matteocastagna/Documents/Università/Assegno di ricerca 2024:2025/SemLink/demo/eurostat/output/datalake/data_lake_annotated.json\u001b[0m\n"
     ]
    },
    {
     "name": "stderr",
     "output_type": "stream",
     "text": [
      "\n"
     ]
    }
   ],
   "source": [
    "# Semnaitc column annotaiton with ArcheType\n",
    "datalake_annotated = archetype_annotation(\n",
    "    data_lake_list=datalake, # Either the list of dict produced by load_and_describe_datalake or the path to the json file produced\n",
    "    yaml_schema=pruned_schema,  # Either the dict produced by generate_linkml_schema/prune_schema or path to the yaml file produced\n",
    "    sample_size=10, # How many samples of the column pass to Archetype for the annotation\n",
    "    output_directory=os.path.join(output_dir, \"datalake\") # Directory to save the output json\n",
    ")"
   ]
  },
  {
   "cell_type": "code",
   "execution_count": 7,
   "id": "abaf56ca",
   "metadata": {},
   "outputs": [
    {
     "name": "stderr",
     "output_type": "stream",
     "text": [
      "[17:44:04] Generating Embeddings: 100%|██████████| 37/37 [00:17<00:00,  2.09it/s]"
     ]
    },
    {
     "name": "stdout",
     "output_type": "stream",
     "text": [
      "[17:44:22] \u001b[32mFinished generating embeddings for 37 columns.\u001b[0m\n",
      "[17:44:22] \u001b[32mEnsured directory exists: /Users/matteocastagna/Documents/Università/Assegno di ricerca 2024:2025/SemLink/demo/eurostat/output/embeddings\u001b[0m\n",
      "[17:44:22] \u001b[32mEmbeddings saved to: /Users/matteocastagna/Documents/Università/Assegno di ricerca 2024:2025/SemLink/demo/eurostat/output/embeddings/embeddings.json\u001b[0m\n"
     ]
    },
    {
     "name": "stderr",
     "output_type": "stream",
     "text": [
      "\n"
     ]
    }
   ],
   "source": [
    "# Generate embeddings for each column\n",
    "embeddings = join_dis.generate_embeddings(\n",
    "    data_lake_list=datalake_annotated, # Either the list of dict produced by load_and_describe_datalake/archetype_annotation or the path to the json file produced\n",
    "    output_directory=os.path.join(output_dir, \"embeddings\") # Directory to save the output json\n",
    ")"
   ]
  },
  {
   "cell_type": "code",
   "execution_count": 8,
   "id": "45cff4e5",
   "metadata": {},
   "outputs": [
    {
     "name": "stdout",
     "output_type": "stream",
     "text": [
      "[17:44:22] \u001b[36mCalculating cosine similarity and euclidean distances...\u001b[0m\n",
      "[17:44:22] \u001b[36mCalculating ANNS distances...\u001b[0m\n",
      "[17:44:22] \u001b[32mEnsured directory exists: /Users/matteocastagna/Documents/Università/Assegno di ricerca 2024:2025/SemLink/demo/eurostat/output/neo4j\u001b[0m\n",
      "[17:44:22] \u001b[32mDistances saved to: /Users/matteocastagna/Documents/Università/Assegno di ricerca 2024:2025/SemLink/demo/eurostat/output/neo4j/distances.csv\u001b[0m\n",
      "[17:44:22] \u001b[36mGenerating Neo4j nodes CSV...\u001b[0m\n",
      "[17:44:22] \u001b[32mEnsured directory exists: /Users/matteocastagna/Documents/Università/Assegno di ricerca 2024:2025/SemLink/demo/eurostat/output/neo4j\u001b[0m\n",
      "[17:44:22] \u001b[32mNeo4j nodes saved to: /Users/matteocastagna/Documents/Università/Assegno di ricerca 2024:2025/SemLink/demo/eurostat/output/neo4j/nodes.csv\u001b[0m\n",
      "[17:44:22] \u001b[32mEnsured directory exists: /Users/matteocastagna/Documents/Università/Assegno di ricerca 2024:2025/SemLink/demo/eurostat/output/neo4j\u001b[0m\n",
      "[17:44:22] \u001b[32mNeo4j edges saved to: /Users/matteocastagna/Documents/Università/Assegno di ricerca 2024:2025/SemLink/demo/eurostat/output/neo4j/edges.csv\u001b[0m\n"
     ]
    }
   ],
   "source": [
    "# Generate Neo4j graph\n",
    "_, _, _ = join_dis.compute_distances_and_export_neo4j(\n",
    "    embeddings=embeddings, # Either the list of dict produced by generate_embeddings or the path to the json file produced\n",
    "    cosine_sim_threshold = 0.5,\n",
    "    anns_threshold = 0.2,\n",
    "    output_directory=os.path.join(output_dir, \"neo4j\") # Directory to save the output CSVs\n",
    ")"
   ]
  },
  {
   "cell_type": "markdown",
   "id": "fce8597a",
   "metadata": {},
   "source": [
    "<h1>PKT<h1>"
   ]
  },
  {
   "cell_type": "code",
   "execution_count": 9,
   "id": "316da7dd",
   "metadata": {},
   "outputs": [],
   "source": [
    "data_dir = \"/Users/matteocastagna/Documents/Università/Assegno di ricerca 2024:2025/SemLink/demo/pkt/data\"\n",
    "output_dir = \"/Users/matteocastagna/Documents/Università/Assegno di ricerca 2024:2025/SemLink/demo/pkt/output\"\n",
    "\n",
    "# Initialization\n",
    "data_loader = DataLoader(openai_client=openai_client)\n",
    "schema_gen = SchemaGenerator(openai_client=openai_client)\n",
    "join_dis = JoinDiscoverer(openai_client=openai_client)"
   ]
  },
  {
   "cell_type": "code",
   "execution_count": 10,
   "id": "eddcaf83",
   "metadata": {},
   "outputs": [
    {
     "name": "stdout",
     "output_type": "stream",
     "text": [
      "[17:44:22] \u001b[35mStarting data lake loading and description from /Users/matteocastagna/Documents/Università/Assegno di ricerca 2024:2025/SemLink/demo/pkt/data\u001b[0m\n"
     ]
    },
    {
     "name": "stderr",
     "output_type": "stream",
     "text": [
      "Processing data files: 100%|██████████| 7/7 [00:58<00:00,  8.32s/it]\n"
     ]
    },
    {
     "name": "stdout",
     "output_type": "stream",
     "text": [
      "[17:45:20] \u001b[33mUnifying column data...\u001b[0m\n"
     ]
    },
    {
     "name": "stderr",
     "output_type": "stream",
     "text": [
      "Unifying descriptions with LLM: 100%|██████████| 16/16 [00:01<00:00,  9.64it/s]"
     ]
    },
    {
     "name": "stdout",
     "output_type": "stream",
     "text": [
      "[17:45:22] \u001b[32mColumn data unification complete.\u001b[0m\n",
      "[17:45:22] \u001b[32mEnsured directory exists: /Users/matteocastagna/Documents/Università/Assegno di ricerca 2024:2025/SemLink/demo/pkt/output/datalake\u001b[0m\n",
      "[17:45:22] \u001b[32mData lake JSON saved to: /Users/matteocastagna/Documents/Università/Assegno di ricerca 2024:2025/SemLink/demo/pkt/output/datalake/data_lake.json\u001b[0m\n",
      "[17:45:22] \u001b[32mFinished loading and describing 7 data files.\u001b[0m\n",
      "\n",
      "Processed 7 files\n"
     ]
    },
    {
     "name": "stderr",
     "output_type": "stream",
     "text": [
      "\n"
     ]
    }
   ],
   "source": [
    "datalake = data_loader.load_and_describe_datalake(\n",
    "    data_directory=data_dir, # Directory with CSV or TSV\n",
    "    llm=True, # Produce a desciption with an LLM for each column\n",
    "    sample_size=10, # How many values sample from a column\n",
    "    output_directory=os.path.join(output_dir, \"datalake\") # Directory to save the output json\n",
    ")\n",
    "\n",
    "print(f\"\\nProcessed {len(datalake)} files\")"
   ]
  },
  {
   "cell_type": "code",
   "execution_count": 11,
   "id": "4ac882a1",
   "metadata": {},
   "outputs": [
    {
     "name": "stdout",
     "output_type": "stream",
     "text": [
      "[17:45:22] \u001b[33mGenerating LinkML schema with LLM...\u001b[0m\n",
      "[17:45:55] \u001b[32mSuccessfully generated LinkML schema.\u001b[0m\n",
      "[17:45:55] \u001b[32mEnsured directory exists: /Users/matteocastagna/Documents/Università/Assegno di ricerca 2024:2025/SemLink/demo/pkt/output/schema\u001b[0m\n",
      "[17:45:55] \u001b[32mLinkML schema saved to: /Users/matteocastagna/Documents/Università/Assegno di ricerca 2024:2025/SemLink/demo/pkt/output/schema/linkml_schema.yaml\u001b[0m\n"
     ]
    }
   ],
   "source": [
    "# Generate LinkML schema\n",
    "schema = schema_gen.generate_linkml_schema(\n",
    "    data_lake_list = datalake, # Either the list of dict produced by load_and_describe_datalake or the path to the json file produced\n",
    "    output_directory=os.path.join(output_dir, \"schema\") # Directory to save the output yaml\n",
    ")"
   ]
  },
  {
   "cell_type": "code",
   "execution_count": 12,
   "id": "891a4392",
   "metadata": {},
   "outputs": [
    {
     "name": "stdout",
     "output_type": "stream",
     "text": [
      "[17:45:55] \u001b[33mStarting schema pruning...\u001b[0m\n",
      "[17:45:55] \u001b[32mLoaded YAML file with 16 class.attribute pairs and 24 descriptions.\u001b[0m\n"
     ]
    },
    {
     "name": "stderr",
     "output_type": "stream",
     "text": [
      "Classifying datasets for pruning: 100%|██████████| 7/7 [00:42<00:00,  6.03s/it]"
     ]
    },
    {
     "name": "stdout",
     "output_type": "stream",
     "text": [
      "[17:46:37] \u001b[34mTotal unique relevant classes identified: 8\u001b[0m\n",
      "[17:46:37] \u001b[34mRelevant classes: ['Chemical', 'NamedEntity', 'Cofactor', 'Gene', 'Protein', 'Catalyst', 'Phenotype', 'Document']\u001b[0m\n",
      "[17:46:37] \u001b[32mEnsured directory exists: /Users/matteocastagna/Documents/Università/Assegno di ricerca 2024:2025/SemLink/demo/pkt/output/schema\u001b[0m\n",
      "[17:46:37] \u001b[32mPruned LinkML schema saved to: /Users/matteocastagna/Documents/Università/Assegno di ricerca 2024:2025/SemLink/demo/pkt/output/schema/linkml_schema_pruned.yaml\u001b[0m\n"
     ]
    },
    {
     "name": "stderr",
     "output_type": "stream",
     "text": [
      "\n"
     ]
    }
   ],
   "source": [
    "# Prune LinkML schema\n",
    "pruned_schema = schema_gen.prune_schema(\n",
    "    data_lake_list = datalake, # Either the list of dict produced by load_and_describe_datalake or the path to the json file produced\n",
    "    yaml_schema = schema, # Either the dict produced by generate_linkml_schema or path to the yaml file produced\n",
    "    output_directory=os.path.join(output_dir, \"schema\") # Directory to save the output yaml\n",
    ")"
   ]
  },
  {
   "cell_type": "code",
   "execution_count": 13,
   "id": "e4e31519",
   "metadata": {},
   "outputs": [
    {
     "name": "stdout",
     "output_type": "stream",
     "text": [
      "[17:46:37] \u001b[35mStarting semantic annotation with Archetype...\u001b[0m\n",
      "[17:46:37] \u001b[32mLoaded YAML file with 16 class.attribute pairs and 24 descriptions.\u001b[0m\n",
      "[17:46:37] \u001b[34mLoaded YAML schema from for Archetype.\u001b[0m\n"
     ]
    },
    {
     "name": "stderr",
     "output_type": "stream",
     "text": [
      "Annotating files:   0%|          | 0/7 [00:00<?, ?it/s]"
     ]
    },
    {
     "name": "stdout",
     "output_type": "stream",
     "text": [
      "[17:46:37] \u001b[36mProcessing file: ENSEMBL_GENE_ENTREZ_GENE_MAP.tsv\u001b[0m\n"
     ]
    },
    {
     "name": "stderr",
     "output_type": "stream",
     "text": [
      "Annotating files:  14%|█▍        | 1/7 [00:05<00:30,  5.16s/it]"
     ]
    },
    {
     "name": "stdout",
     "output_type": "stream",
     "text": [
      "[17:46:43] \u001b[36mProcessing file: UNIPROT_PROTEIN_COFACTOR.tsv\u001b[0m\n"
     ]
    },
    {
     "name": "stderr",
     "output_type": "stream",
     "text": [
      "Annotating files:  29%|██▊       | 2/7 [00:06<00:15,  3.07s/it]"
     ]
    },
    {
     "name": "stdout",
     "output_type": "stream",
     "text": [
      "[17:46:44] \u001b[36mProcessing file: UNIPROT_PROTEIN_CATALYST.tsv\u001b[0m\n"
     ]
    },
    {
     "name": "stderr",
     "output_type": "stream",
     "text": [
      "Annotating files:  43%|████▎     | 3/7 [00:08<00:09,  2.38s/it]"
     ]
    },
    {
     "name": "stdout",
     "output_type": "stream",
     "text": [
      "[17:46:46] \u001b[36mProcessing file: UNIPROT_ACCESSION_PRO_ONTOLOGY_MAP.tsv\u001b[0m\n"
     ]
    },
    {
     "name": "stderr",
     "output_type": "stream",
     "text": [
      "Annotating files:  57%|█████▋    | 4/7 [00:10<00:06,  2.21s/it]"
     ]
    },
    {
     "name": "stdout",
     "output_type": "stream",
     "text": [
      "[17:46:48] \u001b[36mProcessing file: MESH_CHEBI_MAP.tsv\u001b[0m\n"
     ]
    },
    {
     "name": "stderr",
     "output_type": "stream",
     "text": [
      "Annotating files:  71%|███████▏  | 5/7 [00:12<00:04,  2.19s/it]"
     ]
    },
    {
     "name": "stdout",
     "output_type": "stream",
     "text": [
      "[17:46:50] \u001b[36mProcessing file: STRING_PRO_ONTOLOGY_MAP.tsv\u001b[0m\n"
     ]
    },
    {
     "name": "stderr",
     "output_type": "stream",
     "text": [
      "Annotating files:  86%|████████▌ | 6/7 [00:14<00:02,  2.00s/it]"
     ]
    },
    {
     "name": "stdout",
     "output_type": "stream",
     "text": [
      "[17:46:51] \u001b[36mProcessing file: PHENOTYPE_HPO_MAP.tsv\u001b[0m\n"
     ]
    },
    {
     "name": "stderr",
     "output_type": "stream",
     "text": [
      "Annotating files: 100%|██████████| 7/7 [00:15<00:00,  2.26s/it]"
     ]
    },
    {
     "name": "stdout",
     "output_type": "stream",
     "text": [
      "[17:46:53] \u001b[32mFinished semantic annotation for 7 files.\u001b[0m\n",
      "[17:46:53] \u001b[32mEnsured directory exists: /Users/matteocastagna/Documents/Università/Assegno di ricerca 2024:2025/SemLink/demo/pkt/output/datalake\u001b[0m\n",
      "[17:46:53] \u001b[32mAnnotated data lake JSON saved to: /Users/matteocastagna/Documents/Università/Assegno di ricerca 2024:2025/SemLink/demo/pkt/output/datalake/data_lake_annotated.json\u001b[0m\n"
     ]
    },
    {
     "name": "stderr",
     "output_type": "stream",
     "text": [
      "\n"
     ]
    }
   ],
   "source": [
    "# Semnaitc column annotaiton with ArcheType\n",
    "datalake_annotated = archetype_annotation(\n",
    "    data_lake_list=datalake, # Either the list of dict produced by load_and_describe_datalake or the path to the json file produced\n",
    "    yaml_schema=pruned_schema,  # Either the dict produced by generate_linkml_schema/prune_schema or path to the yaml file produced\n",
    "    sample_size=10, # How many samples of the column pass to Archetype for the annotation\n",
    "    output_directory=os.path.join(output_dir, \"datalake\") # Directory to save the output json\n",
    ")"
   ]
  },
  {
   "cell_type": "code",
   "execution_count": 14,
   "id": "99694b40",
   "metadata": {},
   "outputs": [
    {
     "name": "stderr",
     "output_type": "stream",
     "text": [
      "[17:46:53] Generating Embeddings: 100%|██████████| 19/19 [00:08<00:00,  2.22it/s]"
     ]
    },
    {
     "name": "stdout",
     "output_type": "stream",
     "text": [
      "[17:47:02] \u001b[32mFinished generating embeddings for 19 columns.\u001b[0m\n",
      "[17:47:02] \u001b[32mEnsured directory exists: /Users/matteocastagna/Documents/Università/Assegno di ricerca 2024:2025/SemLink/demo/pkt/output/embeddings\u001b[0m\n",
      "[17:47:02] \u001b[32mEmbeddings saved to: /Users/matteocastagna/Documents/Università/Assegno di ricerca 2024:2025/SemLink/demo/pkt/output/embeddings/embeddings.json\u001b[0m\n"
     ]
    },
    {
     "name": "stderr",
     "output_type": "stream",
     "text": [
      "\n"
     ]
    }
   ],
   "source": [
    "# Generate embeddings for each column\n",
    "embeddings = join_dis.generate_embeddings(\n",
    "    data_lake_list=datalake_annotated, # Either the list of dict produced by load_and_describe_datalake/archetype_annotation or the path to the json file produced\n",
    "    output_directory=os.path.join(output_dir, \"embeddings\") # Directory to save the output json\n",
    ")"
   ]
  },
  {
   "cell_type": "code",
   "execution_count": 15,
   "id": "8b1843f7",
   "metadata": {},
   "outputs": [
    {
     "name": "stdout",
     "output_type": "stream",
     "text": [
      "[17:47:02] \u001b[36mCalculating cosine similarity and euclidean distances...\u001b[0m\n",
      "[17:47:02] \u001b[36mCalculating ANNS distances...\u001b[0m\n",
      "[17:47:02] \u001b[32mEnsured directory exists: /Users/matteocastagna/Documents/Università/Assegno di ricerca 2024:2025/SemLink/demo/pkt/output/neo4j\u001b[0m\n",
      "[17:47:02] \u001b[32mDistances saved to: /Users/matteocastagna/Documents/Università/Assegno di ricerca 2024:2025/SemLink/demo/pkt/output/neo4j/distances.csv\u001b[0m\n",
      "[17:47:02] \u001b[36mGenerating Neo4j nodes CSV...\u001b[0m\n",
      "[17:47:02] \u001b[32mEnsured directory exists: /Users/matteocastagna/Documents/Università/Assegno di ricerca 2024:2025/SemLink/demo/pkt/output/neo4j\u001b[0m\n",
      "[17:47:02] \u001b[32mNeo4j nodes saved to: /Users/matteocastagna/Documents/Università/Assegno di ricerca 2024:2025/SemLink/demo/pkt/output/neo4j/nodes.csv\u001b[0m\n",
      "[17:47:02] \u001b[32mEnsured directory exists: /Users/matteocastagna/Documents/Università/Assegno di ricerca 2024:2025/SemLink/demo/pkt/output/neo4j\u001b[0m\n",
      "[17:47:02] \u001b[32mNeo4j edges saved to: /Users/matteocastagna/Documents/Università/Assegno di ricerca 2024:2025/SemLink/demo/pkt/output/neo4j/edges.csv\u001b[0m\n"
     ]
    }
   ],
   "source": [
    "# Generate Neo4j graph\n",
    "_, _, _ = join_dis.compute_distances_and_export_neo4j(\n",
    "    embeddings=embeddings, # Either the list of dict produced by generate_embeddings or the path to the json file produced\n",
    "    cosine_sim_threshold = 0.5,\n",
    "    anns_threshold = 0.2,\n",
    "    output_directory=os.path.join(output_dir, \"neo4j\") # Directory to save the output CSVs\n",
    ")"
   ]
  }
 ],
 "metadata": {
  "kernelspec": {
   "display_name": "archetype2",
   "language": "python",
   "name": "python3"
  },
  "language_info": {
   "codemirror_mode": {
    "name": "ipython",
    "version": 3
   },
   "file_extension": ".py",
   "mimetype": "text/x-python",
   "name": "python",
   "nbconvert_exporter": "python",
   "pygments_lexer": "ipython3",
   "version": "3.10.16"
  }
 },
 "nbformat": 4,
 "nbformat_minor": 5
}
